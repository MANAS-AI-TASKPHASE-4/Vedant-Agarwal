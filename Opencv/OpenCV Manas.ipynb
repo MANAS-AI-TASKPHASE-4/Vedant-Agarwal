{
 "cells": [
  {
   "cell_type": "code",
   "execution_count": 1,
   "id": "08e2848b-286d-42a2-a73d-2caae14d0d9e",
   "metadata": {},
   "outputs": [],
   "source": [
    "import cv2\n"
   ]
  },
  {
   "cell_type": "code",
   "execution_count": 47,
   "id": "1ebc4795-2f13-4c3c-a941-619746db54ab",
   "metadata": {},
   "outputs": [
    {
     "data": {
      "text/plain": [
       "\"import numpy as np\\n\\n# Download and configure YOLOv5 model\\nmodel = cv2.dnn_DetectionModel('yolov5s (1).pt')\\nmodel.setInputParams(size=(640, 640), scale=1/255)\\n\\ndef count_people(frame):\\n  # Preprocess image for YOLO\\n  image = cv2.cvtColor(frame, cv2.COLOR_BGR2RGB)\\n  image = cv2.resize(image, (640, 640))\\n\\n  # Perform detection\\n  classes, confidences, boxes = model.detect(image)\\n\\n  # Count detections with high confidence and specific class ID (person)\\n  count = 0\\n  for i in range(len(boxes)):\\n    if confidences[i] > 0.5 and classes[i] == 0:  # Replace 0 with class ID for person in YOLO model\\n      count += 1\\n\\n  return count\""
      ]
     },
     "execution_count": 47,
     "metadata": {},
     "output_type": "execute_result"
    }
   ],
   "source": [
    "pts=[]\n",
    "def detect_ball(frame, ball_cascade, min_area=28):\n",
    "    gray = cv2.cvtColor(frame, cv2.COLOR_BGR2GRAY)\n",
    "    \n",
    "    balls = ball_cascade.detectMultiScale(gray, scaleFactor=1.1, minNeighbors=5, minSize=(30, 30), maxSize = (35,35))\n",
    "    global pts\n",
    "    for (x, y, w, h) in balls:\n",
    "        area = w * h\n",
    "        if area > min_area:\n",
    "            cv2.rectangle(frame, (x, y), (x+w, y+h), (0, 255, 0), 2)\n",
    "            pts.append((x+w, y+h))\n",
    "    for i in range(1, len(pts)):\n",
    "            if pts[i - 1] is not None and pts[i] is not None:\n",
    "                cv2.line(frame, pts[i - 1], pts[i], (0, 255, 0), 2)\n",
    "    if len(pts)>60:\n",
    "        pts=[]\n",
    "    return frame\n",
    "\n",
    "\n",
    "\"\"\"import numpy as np\n",
    "\n",
    "# Download and configure YOLOv5 model\n",
    "model = cv2.dnn_DetectionModel('yolov5s (1).pt')\n",
    "model.setInputParams(size=(640, 640), scale=1/255)\n",
    "\n",
    "def count_people(frame):\n",
    "  # Preprocess image for YOLO\n",
    "  image = cv2.cvtColor(frame, cv2.COLOR_BGR2RGB)\n",
    "  image = cv2.resize(image, (640, 640))\n",
    "\n",
    "  # Perform detection\n",
    "  classes, confidences, boxes = model.detect(image)\n",
    "\n",
    "  # Count detections with high confidence and specific class ID (person)\n",
    "  count = 0\n",
    "  for i in range(len(boxes)):\n",
    "    if confidences[i] > 0.5 and classes[i] == 0:  # Replace 0 with class ID for person in YOLO model\n",
    "      count += 1\n",
    "\n",
    "  return count\"\"\""
   ]
  },
  {
   "cell_type": "code",
   "execution_count": 48,
   "id": "d66daa4e-33a6-4ee2-9573-320983a5e709",
   "metadata": {},
   "outputs": [],
   "source": [
    "ball_cascade = cv2.CascadeClassifier('ball.xml')  \n",
    "#human_cascade = cv2.CascadeClassifier('haarcascade_upperbody.xml')\n"
   ]
  },
  {
   "cell_type": "code",
   "execution_count": 49,
   "id": "c0360b83-cb38-499c-a89a-fd1fe44f119f",
   "metadata": {},
   "outputs": [],
   "source": [
    "cap = cv2.VideoCapture('volleyball_match.mp4')"
   ]
  },
  {
   "cell_type": "code",
   "execution_count": 50,
   "id": "ec30f6ce-6ef0-4df8-acad-865ebe53a542",
   "metadata": {},
   "outputs": [],
   "source": [
    "if not cap.isOpened():\n",
    "    print(\"Error: Couldn't open video file.\")\n",
    "    exit()"
   ]
  },
  {
   "cell_type": "code",
   "execution_count": 51,
   "id": "b872c756-02a1-4f90-a982-92a1014267cc",
   "metadata": {},
   "outputs": [],
   "source": [
    "while cap.isOpened():\n",
    "    ret, frame = cap.read()\n",
    "    if ret:\n",
    "        frame = detect_ball(frame, ball_cascade)\n",
    "        #print(count_people(frame))\n",
    "        cv2.imshow('Ball Detection', frame)\n",
    "        \n",
    "        if cv2.waitKey(15) & 0xFF == ord('q'):\n",
    "            break\n",
    "    else:\n",
    "        break\n",
    "\n",
    "cap.release()\n",
    "cv2.destroyAllWindows()"
   ]
  },
  {
   "cell_type": "code",
   "execution_count": null,
   "id": "bc602546",
   "metadata": {},
   "outputs": [],
   "source": []
  }
 ],
 "metadata": {
  "kernelspec": {
   "display_name": "Python 3 (ipykernel)",
   "language": "python",
   "name": "python3"
  },
  "language_info": {
   "codemirror_mode": {
    "name": "ipython",
    "version": 3
   },
   "file_extension": ".py",
   "mimetype": "text/x-python",
   "name": "python",
   "nbconvert_exporter": "python",
   "pygments_lexer": "ipython3",
   "version": "3.11.5"
  }
 },
 "nbformat": 4,
 "nbformat_minor": 5
}
